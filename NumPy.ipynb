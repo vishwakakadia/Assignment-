{
 "cells": [
  {
   "cell_type": "markdown",
   "metadata": {},
   "source": [
    "### Write a function so that the columns of the output matrix are powers of the input vector.\n",
    "The order of the powers is determined by the increasing boolean argument. Specifically, when increasing is False, the i-th output column is the input vector raised element-wise to the power of N - i - 1.\n",
    "\n",
    "HINT: Such a matrix with a geometric progression in each row is named for AlexandreTheophile Vandermonde."
   ]
  },
  {
   "cell_type": "code",
   "execution_count": 16,
   "metadata": {},
   "outputs": [],
   "source": [
    "import numpy as np"
   ]
  },
  {
   "cell_type": "code",
   "execution_count": 18,
   "metadata": {},
   "outputs": [
    {
     "name": "stdout",
     "output_type": "stream",
     "text": [
      "decrease\n",
      "[[ 8  4  2  1]\n",
      " [27  9  3  1]\n",
      " [64 16  4  1]]\n",
      "\n",
      "increase\n",
      "[[ 1  2  4  8]\n",
      " [ 1  3  9 27]\n",
      " [ 1  4 16 64]]\n"
     ]
    }
   ],
   "source": [
    "def vandermonde(l,n,increase = False):\n",
    "    if increase:\n",
    "        print(np.array([j**i for j in l for i in range(n)]).reshape(len(l),n))\n",
    "    else:\n",
    "        print(np.array([j**(n-1-i) for j in l for i in range(n)]).reshape(len(l),n))\n",
    "\n",
    "l1 = [2,3,4]\n",
    "n = 4\n",
    "print('decrease')\n",
    "vandermonde(np.array(l1),n)\n",
    "print()\n",
    "print('increase')\n",
    "vandermonde(np.array(l1),n,increase = True)"
   ]
  },
  {
   "cell_type": "markdown",
   "metadata": {},
   "source": [
    "### Problem Statement 2:\n",
    "- Given a sequence of n values x1, x2, ..., xn and a window size k>0, the k-th moving average of the given sequence is defined as follows:\n",
    "- The moving average sequence has n-k+1 elements as shown below.\n",
    "- The moving averages with k=4 of a ten-value sequence (n=10) is shown below\n",
    "- i 1 2 3 4 5 6 7 8 9 10\n",
    "- ===== == == == == == == == == == ==\n",
    "- Input 10 20 30 40 50 60 70 80 90 100\n",
    "- y1 25 = (10+20+30+40)/4\n",
    "- y2 35 = (20+30+40+50)/4\n",
    "- y3 45 = (30+40+50+60)/4\n",
    "- y4 55 = (40+50+60+70)/4\n",
    "- y5 65 = (50+60+70+80)/4\n",
    "- y6 75 = (60+70+80+90)/4\n",
    "- y7 85 = (70+80+90+100)/4\n",
    "- Thus, the moving average sequence has n-k+1=10-4+1=7 values."
   ]
  },
  {
   "cell_type": "markdown",
   "metadata": {},
   "source": [
    "### Question: Write a function to find moving average in an array over a window:\n",
    "### Test it over [3, 5, 7, 2, 8, 10, 11, 65, 72, 81, 99, 100, 150] and window of 3."
   ]
  },
  {
   "cell_type": "code",
   "execution_count": 19,
   "metadata": {},
   "outputs": [
    {
     "name": "stdout",
     "output_type": "stream",
     "text": [
      "enter the value of window3\n",
      "5.0\n",
      "4.67\n",
      "5.67\n",
      "6.67\n",
      "9.67\n",
      "28.67\n",
      "49.33\n",
      "72.67\n",
      "84.0\n",
      "60.0\n",
      "33.0\n",
      "None\n"
     ]
    }
   ],
   "source": [
    "def moving_avg(arr,k):\n",
    "    y = [ ]\n",
    "    for i in range(len(arr)):\n",
    "        sum = 0 \n",
    "        for j in range(i,i+k):\n",
    "            if j < len(arr)-k+1:\n",
    "                sum = sum+arr[j]\n",
    "        y.append(sum/k)\n",
    "    for i in range(0,len(arr) - k + 1):\n",
    "        print(round(y[i],2))\n",
    "\n",
    "arr = np.array([3, 5, 7, 2, 8, 10, 11, 65, 72, 81, 99, 100, 150])\n",
    "k = int(input('enter the value of window'))\n",
    "print(moving_avg(arr,k))"
   ]
  },
  {
   "cell_type": "code",
   "execution_count": null,
   "metadata": {},
   "outputs": [],
   "source": []
  }
 ],
 "metadata": {
  "kernelspec": {
   "display_name": "Python 3",
   "language": "python",
   "name": "python3"
  },
  "language_info": {
   "codemirror_mode": {
    "name": "ipython",
    "version": 3
   },
   "file_extension": ".py",
   "mimetype": "text/x-python",
   "name": "python",
   "nbconvert_exporter": "python",
   "pygments_lexer": "ipython3",
   "version": "3.7.6"
  }
 },
 "nbformat": 4,
 "nbformat_minor": 4
}
